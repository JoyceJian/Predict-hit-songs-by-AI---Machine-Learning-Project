{
  "nbformat": 4,
  "nbformat_minor": 0,
  "metadata": {
    "colab": {
      "name": "ETL.ipynb",
      "provenance": [],
      "collapsed_sections": [],
      "include_colab_link": true
    },
    "kernelspec": {
      "name": "python3",
      "display_name": "Python 3"
    }
  },
  "cells": [
    {
      "cell_type": "markdown",
      "metadata": {
        "id": "view-in-github",
        "colab_type": "text"
      },
      "source": [
        "<a href=\"https://colab.research.google.com/github/ahyds/Machine-Learning-Project/blob/master/Cloud%20ETL.ipynb\" target=\"_parent\"><img src=\"https://colab.research.google.com/assets/colab-badge.svg\" alt=\"Open In Colab\"/></a>"
      ]
    },
    {
      "cell_type": "code",
      "metadata": {
        "id": "kTJttxh8VCqC",
        "colab_type": "code",
        "outputId": "0fafde6d-fd7d-470c-c22e-c0532f257f77",
        "colab": {
          "base_uri": "https://localhost:8080/",
          "height": 275
        }
      },
      "source": [
        "!apt-get install openjdk-8-jdk-headless -qq > /dev/null\n",
        "import os\n",
        "os.environ[\"JAVA_HOME\"] = \"/usr/lib/jvm/java-8-openjdk-amd64\"\n",
        "!update-alternatives --set java /usr/lib/jvm/java-8-openjdk-amd64/jre/bin/java\n",
        "\n",
        "!pip install pyspark\n",
        "\n",
        "os.environ['PYSPARK_SUBMIT_ARGS'] = '--packages org.postgresql:postgresql:42.1.1 pyspark-shell'\n",
        "\n",
        "from pyspark.sql import SparkSession\n",
        "spark = SparkSession \\\n",
        "    .builder \\\n",
        "    .getOrCreate()"
      ],
      "execution_count": 1,
      "outputs": [
        {
          "output_type": "stream",
          "text": [
            "update-alternatives: using /usr/lib/jvm/java-8-openjdk-amd64/jre/bin/java to provide /usr/bin/java (java) in manual mode\n",
            "Collecting pyspark\n",
            "\u001b[?25l  Downloading https://files.pythonhosted.org/packages/87/21/f05c186f4ddb01d15d0ddc36ef4b7e3cedbeb6412274a41f26b55a650ee5/pyspark-2.4.4.tar.gz (215.7MB)\n",
            "\u001b[K     |████████████████████████████████| 215.7MB 59kB/s \n",
            "\u001b[?25hCollecting py4j==0.10.7\n",
            "\u001b[?25l  Downloading https://files.pythonhosted.org/packages/e3/53/c737818eb9a7dc32a7cd4f1396e787bd94200c3997c72c1dbe028587bd76/py4j-0.10.7-py2.py3-none-any.whl (197kB)\n",
            "\u001b[K     |████████████████████████████████| 204kB 45.7MB/s \n",
            "\u001b[?25hBuilding wheels for collected packages: pyspark\n",
            "  Building wheel for pyspark (setup.py) ... \u001b[?25l\u001b[?25hdone\n",
            "  Created wheel for pyspark: filename=pyspark-2.4.4-py2.py3-none-any.whl size=216130387 sha256=3d40181cec764471bb7b2b3e85587527dabfb7f3170756995781819b06ccb36d\n",
            "  Stored in directory: /root/.cache/pip/wheels/ab/09/4d/0d184230058e654eb1b04467dbc1292f00eaa186544604b471\n",
            "Successfully built pyspark\n",
            "Installing collected packages: py4j, pyspark\n",
            "Successfully installed py4j-0.10.7 pyspark-2.4.4\n"
          ],
          "name": "stdout"
        }
      ]
    },
    {
      "cell_type": "markdown",
      "metadata": {
        "id": "w_D_7SR3VQqA",
        "colab_type": "text"
      },
      "source": [
        "# Read in CSV from S3"
      ]
    },
    {
      "cell_type": "code",
      "metadata": {
        "id": "gD5NlLVmVUTc",
        "colab_type": "code",
        "colab": {}
      },
      "source": [
        "from pyspark import SparkFiles\n",
        "# Load in employee.csv from S3 into a DataFrame\n",
        "url_1990 = \"https://hyd123.s3.us-east-2.amazonaws.com/updated_data/1990data_cleaned.csv\"\n",
        "url_2000 = \"https://hyd123.s3.us-east-2.amazonaws.com/updated_data/2000data_cleaned.csv\"\n",
        "url_2010 = \"https://hyd123.s3.us-east-2.amazonaws.com/updated_data/2010data_cleaned.csv\"\n",
        "url_2019 = \"https://hyd123.s3.us-east-2.amazonaws.com/updated_data/2019data_cleaned.csv\""
      ],
      "execution_count": 0,
      "outputs": []
    },
    {
      "cell_type": "code",
      "metadata": {
        "id": "HldSE_a3FRJH",
        "colab_type": "code",
        "colab": {}
      },
      "source": [
        "spark.sparkContext.addFile(url_1990)\n",
        "df_1990 = spark.read.option('header', 'true').csv(SparkFiles.get(\"1990data_cleaned.csv\"), inferSchema=True, sep=',', timestampFormat=\"mm/dd/yy\")"
      ],
      "execution_count": 0,
      "outputs": []
    },
    {
      "cell_type": "code",
      "metadata": {
        "id": "hfNx6QQkFSC8",
        "colab_type": "code",
        "colab": {}
      },
      "source": [
        "spark.sparkContext.addFile(url_2000)\n",
        "df_2000 = spark.read.option('header', 'true').csv(SparkFiles.get(\"2000data_cleaned.csv\"), inferSchema=True, sep=',', timestampFormat=\"mm/dd/yy\")"
      ],
      "execution_count": 0,
      "outputs": []
    },
    {
      "cell_type": "code",
      "metadata": {
        "id": "DB1q2PX_FUwY",
        "colab_type": "code",
        "colab": {}
      },
      "source": [
        "spark.sparkContext.addFile(url_2010)\n",
        "df_2010 = spark.read.option('header', 'true').csv(SparkFiles.get(\"2010data_cleaned.csv\"), inferSchema=True, sep=',', timestampFormat=\"mm/dd/yy\")"
      ],
      "execution_count": 0,
      "outputs": []
    },
    {
      "cell_type": "code",
      "metadata": {
        "id": "7Xozlf5xFYoU",
        "colab_type": "code",
        "colab": {}
      },
      "source": [
        "spark.sparkContext.addFile(url_2019)\n",
        "df_2019 = spark.read.option('header', 'true').csv(SparkFiles.get(\"2019data_cleaned.csv\"), inferSchema=True, sep=',', timestampFormat=\"mm/dd/yy\")"
      ],
      "execution_count": 0,
      "outputs": []
    },
    {
      "cell_type": "markdown",
      "metadata": {
        "id": "gccF-7EmMMfY",
        "colab_type": "text"
      },
      "source": [
        "# Check Data Schema"
      ]
    },
    {
      "cell_type": "code",
      "metadata": {
        "id": "VyOX-lcTVciy",
        "colab_type": "code",
        "outputId": "0593c355-0f3c-4ffe-d2f9-b5fce910997c",
        "colab": {
          "base_uri": "https://localhost:8080/",
          "height": 374
        }
      },
      "source": [
        "df_1990.printSchema()"
      ],
      "execution_count": 7,
      "outputs": [
        {
          "output_type": "stream",
          "text": [
            "root\n",
            " |-- _c0: integer (nullable = true)\n",
            " |-- acousticness: double (nullable = true)\n",
            " |-- analysis_url: string (nullable = true)\n",
            " |-- danceability: double (nullable = true)\n",
            " |-- duration_ms: integer (nullable = true)\n",
            " |-- energy: double (nullable = true)\n",
            " |-- id: string (nullable = true)\n",
            " |-- instrumentalness: double (nullable = true)\n",
            " |-- key: integer (nullable = true)\n",
            " |-- liveness: double (nullable = true)\n",
            " |-- loudness: double (nullable = true)\n",
            " |-- mode: integer (nullable = true)\n",
            " |-- speechiness: double (nullable = true)\n",
            " |-- tempo: double (nullable = true)\n",
            " |-- time_signature: integer (nullable = true)\n",
            " |-- track_href: string (nullable = true)\n",
            " |-- type: string (nullable = true)\n",
            " |-- uri: string (nullable = true)\n",
            " |-- valence: double (nullable = true)\n",
            "\n"
          ],
          "name": "stdout"
        }
      ]
    },
    {
      "cell_type": "code",
      "metadata": {
        "id": "wSQ4Cdo7VoJo",
        "colab_type": "code",
        "outputId": "b72f41c8-9461-4b63-c590-0407186fa78d",
        "colab": {
          "base_uri": "https://localhost:8080/",
          "height": 309
        }
      },
      "source": [
        "df_1990.show(10)"
      ],
      "execution_count": 8,
      "outputs": [
        {
          "output_type": "stream",
          "text": [
            "+---+------------+--------------------+------------+-----------+------+--------------------+----------------+---+--------+--------+----+-----------+-------+--------------+--------------------+--------------+--------------------+-------+\n",
            "|_c0|acousticness|        analysis_url|danceability|duration_ms|energy|                  id|instrumentalness|key|liveness|loudness|mode|speechiness|  tempo|time_signature|          track_href|          type|                 uri|valence|\n",
            "+---+------------+--------------------+------------+-----------+------+--------------------+----------------+---+--------+--------+----+-----------+-------+--------------+--------------------+--------------+--------------------+-------+\n",
            "|  0|       0.736|https://api.spoti...|        0.78|     322133| 0.565|1NCuYqMc8hKMb4cpN...|         0.00269|  3|   0.063|   -7.32|   0|     0.0306|101.967|             4|https://api.spoti...|audio_features|spotify:track:1NC...|  0.365|\n",
            "|  1|      0.0561|https://api.spoti...|       0.631|     330933| 0.935|51q3nDYWAqPY4hlgK...|           0.152|  1|   0.634|   -8.34|   0|     0.0587|109.122|             4|https://api.spoti...|audio_features|spotify:track:51q...|  0.678|\n",
            "|  2|       0.657|https://api.spoti...|       0.401|     211973| 0.285|5z3ZDMP02xF33yCvP...|         1.13E-5| 11|   0.158| -11.005|   1|     0.0327|130.465|             4|https://api.spoti...|audio_features|spotify:track:5z3...|  0.267|\n",
            "|  3|      0.0287|https://api.spoti...|       0.862|     215040| 0.918|0UAEHlFR79k9CJvkn...|         1.15E-6| 10|  0.0492|  -7.325|   0|      0.108|124.811|             4|https://api.spoti...|audio_features|spotify:track:0UA...|  0.651|\n",
            "|  4|       0.334|https://api.spoti...|       0.713|     274093| 0.432|1s12gYsPeTNQ6znow...|         2.99E-4| 11|  0.0674| -12.639|   0|       0.03|118.955|             4|https://api.spoti...|audio_features|spotify:track:1s1...|  0.445|\n",
            "|  5|       0.191|https://api.spoti...|       0.541|     255667|  0.44|3RMeOetCdXttthQK0...|             0.0| 10|   0.114| -12.206|   1|      0.031|140.273|             4|https://api.spoti...|audio_features|spotify:track:3RM...|  0.232|\n",
            "|  6|       0.198|https://api.spoti...|       0.405|     245733| 0.563|5JGdpqo9wrRtOZtui...|             0.0|  8|  0.0877| -10.136|   1|     0.0304|137.979|             4|https://api.spoti...|audio_features|spotify:track:5JG...|  0.478|\n",
            "|  7|      0.0771|https://api.spoti...|       0.712|     287733| 0.967|3Cx4yrFaX8CeHwBMR...|             0.0|  7|   0.356|  -5.206|   1|      0.047|145.024|             4|https://api.spoti...|audio_features|spotify:track:3Cx...|  0.895|\n",
            "|  8|       0.902|https://api.spoti...|       0.704|     245426| 0.225|3ZCTVFBt2Brf31RLE...|           0.657|  6|   0.106| -14.454|   0|     0.0994|120.006|             4|https://api.spoti...|audio_features|spotify:track:3ZC...|  0.243|\n",
            "|  9|       0.191|https://api.spoti...|       0.467|     214219| 0.701|7Lr4XaxGpkAwa37IV...|             0.0|  4|  0.0769|  -4.997|   1|     0.0302|132.041|             3|https://api.spoti...|audio_features|spotify:track:7Lr...|   0.28|\n",
            "+---+------------+--------------------+------------+-----------+------+--------------------+----------------+---+--------+--------+----+-----------+-------+--------------+--------------------+--------------+--------------------+-------+\n",
            "only showing top 10 rows\n",
            "\n"
          ],
          "name": "stdout"
        }
      ]
    },
    {
      "cell_type": "markdown",
      "metadata": {
        "id": "F9BOWUzCVohi",
        "colab_type": "text"
      },
      "source": [
        "# Write DataFrame to RDS"
      ]
    },
    {
      "cell_type": "code",
      "metadata": {
        "id": "jzhPdd-NVrsP",
        "colab_type": "code",
        "colab": {}
      },
      "source": [
        "# Configuration for RDS instance\n",
        "mode=\"append\"\n",
        "jdbc_url = \"jdbc:postgresql://monpostgresqldb.c1rttjrklnzf.us-east-2.rds.amazonaws.com:5432/my_data_class_db\"\n",
        "config = {\"user\":\"root\",\n",
        "          \"password\": \"password\",\n",
        "          \"driver\":\"org.postgresql.Driver\"}"
      ],
      "execution_count": 0,
      "outputs": []
    },
    {
      "cell_type": "code",
      "metadata": {
        "id": "ExpOvVCOWyVM",
        "colab_type": "code",
        "colab": {}
      },
      "source": [
        "# Write DataFrames to table\n",
        "df_1990.write.jdbc(url=jdbc_url, table='df_1990', mode=mode, properties=config)"
      ],
      "execution_count": 0,
      "outputs": []
    },
    {
      "cell_type": "code",
      "metadata": {
        "id": "Gad--WLNIEYI",
        "colab_type": "code",
        "colab": {}
      },
      "source": [
        "df_2000.write.jdbc(url=jdbc_url, table='df_2000', mode=mode, properties=config)"
      ],
      "execution_count": 0,
      "outputs": []
    },
    {
      "cell_type": "code",
      "metadata": {
        "id": "_JmzKUD6ILEK",
        "colab_type": "code",
        "colab": {}
      },
      "source": [
        "df_2010.write.jdbc(url=jdbc_url, table='df_2010', mode=mode, properties=config)"
      ],
      "execution_count": 0,
      "outputs": []
    },
    {
      "cell_type": "code",
      "metadata": {
        "id": "9A9tnk6pINif",
        "colab_type": "code",
        "colab": {}
      },
      "source": [
        "df_2019.write.jdbc(url=jdbc_url, table='df_2019', mode=mode, properties=config)"
      ],
      "execution_count": 0,
      "outputs": []
    }
  ]
}