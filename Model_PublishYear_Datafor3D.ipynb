{
 "cells": [
  {
   "cell_type": "code",
   "execution_count": 1,
   "metadata": {},
   "outputs": [],
   "source": [
    "import pandas as pd\n",
    "%matplotlib inline\n",
    "import matplotlib.pyplot as plt\n",
    "import numpy as np"
   ]
  },
  {
   "cell_type": "code",
   "execution_count": 9,
   "metadata": {},
   "outputs": [],
   "source": [
    "data1990 = pd.read_csv(\"https://hyd123.s3.us-east-2.amazonaws.com/updated_data/1990data_cleaned.csv\")\n",
    "data2000 = pd.read_csv(\"https://hyd123.s3.us-east-2.amazonaws.com/updated_data/2000data_cleaned.csv\")\n",
    "data2010 = pd.read_csv(\"https://hyd123.s3.us-east-2.amazonaws.com/updated_data/2010data_cleaned.csv\")\n",
    "data2019 = pd.read_csv(\"https://hyd123.s3.us-east-2.amazonaws.com/updated_data/2019data_cleaned.csv\")"
   ]
  },
  {
   "cell_type": "code",
   "execution_count": 10,
   "metadata": {},
   "outputs": [
    {
     "data": {
      "text/plain": [
       "Index(['Unnamed: 0', 'acousticness', 'analysis_url', 'danceability',\n",
       "       'duration_ms', 'energy', 'id', 'instrumentalness', 'key', 'liveness',\n",
       "       'loudness', 'mode', 'speechiness', 'tempo', 'time_signature',\n",
       "       'track_href', 'type', 'uri', 'valence'],\n",
       "      dtype='object')"
      ]
     },
     "execution_count": 10,
     "metadata": {},
     "output_type": "execute_result"
    }
   ],
   "source": [
    "data1990.columns"
   ]
  },
  {
   "cell_type": "code",
   "execution_count": 11,
   "metadata": {},
   "outputs": [],
   "source": [
    "data1990 = data1990[['duration_ms','loudness','speechiness']]\n",
    "data2000 = data2000[['duration_ms','loudness','speechiness']]\n",
    "data2010 = data2010[['duration_ms','loudness','speechiness']]\n",
    "data2019 = data2019[['duration_ms','loudness','speechiness']]"
   ]
  },
  {
   "cell_type": "code",
   "execution_count": 12,
   "metadata": {},
   "outputs": [
    {
     "data": {
      "text/html": [
       "<div>\n",
       "<style scoped>\n",
       "    .dataframe tbody tr th:only-of-type {\n",
       "        vertical-align: middle;\n",
       "    }\n",
       "\n",
       "    .dataframe tbody tr th {\n",
       "        vertical-align: top;\n",
       "    }\n",
       "\n",
       "    .dataframe thead th {\n",
       "        text-align: right;\n",
       "    }\n",
       "</style>\n",
       "<table border=\"1\" class=\"dataframe\">\n",
       "  <thead>\n",
       "    <tr style=\"text-align: right;\">\n",
       "      <th></th>\n",
       "      <th>duration_ms</th>\n",
       "      <th>loudness</th>\n",
       "      <th>speechiness</th>\n",
       "    </tr>\n",
       "  </thead>\n",
       "  <tbody>\n",
       "    <tr>\n",
       "      <th>0</th>\n",
       "      <td>322133</td>\n",
       "      <td>-7.320</td>\n",
       "      <td>0.0306</td>\n",
       "    </tr>\n",
       "    <tr>\n",
       "      <th>1</th>\n",
       "      <td>330933</td>\n",
       "      <td>-8.340</td>\n",
       "      <td>0.0587</td>\n",
       "    </tr>\n",
       "    <tr>\n",
       "      <th>2</th>\n",
       "      <td>211973</td>\n",
       "      <td>-11.005</td>\n",
       "      <td>0.0327</td>\n",
       "    </tr>\n",
       "    <tr>\n",
       "      <th>3</th>\n",
       "      <td>215040</td>\n",
       "      <td>-7.325</td>\n",
       "      <td>0.1080</td>\n",
       "    </tr>\n",
       "    <tr>\n",
       "      <th>4</th>\n",
       "      <td>274093</td>\n",
       "      <td>-12.639</td>\n",
       "      <td>0.0300</td>\n",
       "    </tr>\n",
       "  </tbody>\n",
       "</table>\n",
       "</div>"
      ],
      "text/plain": [
       "   duration_ms  loudness  speechiness\n",
       "0       322133    -7.320       0.0306\n",
       "1       330933    -8.340       0.0587\n",
       "2       211973   -11.005       0.0327\n",
       "3       215040    -7.325       0.1080\n",
       "4       274093   -12.639       0.0300"
      ]
     },
     "execution_count": 12,
     "metadata": {},
     "output_type": "execute_result"
    }
   ],
   "source": [
    "data1990.head()"
   ]
  },
  {
   "cell_type": "code",
   "execution_count": 13,
   "metadata": {},
   "outputs": [],
   "source": [
    "data1990 = data1990.rename(columns={\"duration_ms\":\"duration_ms_1990\", \"loudness\":\"loudness_1990\",\"speechiness\":\"speechiness_1990\"})\n",
    "data2000 = data2000.rename(columns={\"duration_ms\":\"duration_ms_2000\", \"loudness\":\"loudness_2000\",\"speechiness\":\"speechiness_2000\"})\n",
    "data2010 = data2010.rename(columns={\"duration_ms\":\"duration_ms_2010\", \"loudness\":\"loudness_2010\",\"speechiness\":\"speechiness_2010\"})\n",
    "data2019 = data2019.rename(columns={\"duration_ms\":\"duration_ms_2019\", \"loudness\":\"loudness_2019\",\"speechiness\":\"speechiness_2019\"})"
   ]
  },
  {
   "cell_type": "code",
   "execution_count": 14,
   "metadata": {},
   "outputs": [
    {
     "data": {
      "text/html": [
       "<div>\n",
       "<style scoped>\n",
       "    .dataframe tbody tr th:only-of-type {\n",
       "        vertical-align: middle;\n",
       "    }\n",
       "\n",
       "    .dataframe tbody tr th {\n",
       "        vertical-align: top;\n",
       "    }\n",
       "\n",
       "    .dataframe thead th {\n",
       "        text-align: right;\n",
       "    }\n",
       "</style>\n",
       "<table border=\"1\" class=\"dataframe\">\n",
       "  <thead>\n",
       "    <tr style=\"text-align: right;\">\n",
       "      <th></th>\n",
       "      <th>duration_ms_1990</th>\n",
       "      <th>loudness_1990</th>\n",
       "      <th>speechiness_1990</th>\n",
       "      <th>duration_ms_2000</th>\n",
       "      <th>loudness_2000</th>\n",
       "      <th>speechiness_2000</th>\n",
       "      <th>duration_ms_2010</th>\n",
       "      <th>loudness_2010</th>\n",
       "      <th>speechiness_2010</th>\n",
       "      <th>duration_ms_2019</th>\n",
       "      <th>loudness_2019</th>\n",
       "      <th>speechiness_2019</th>\n",
       "    </tr>\n",
       "  </thead>\n",
       "  <tbody>\n",
       "    <tr>\n",
       "      <th>0</th>\n",
       "      <td>322133</td>\n",
       "      <td>-7.320</td>\n",
       "      <td>0.0306</td>\n",
       "      <td>257760.0</td>\n",
       "      <td>-3.947</td>\n",
       "      <td>0.0751</td>\n",
       "      <td>199693.0</td>\n",
       "      <td>-2.718</td>\n",
       "      <td>0.1420</td>\n",
       "      <td>207320.0</td>\n",
       "      <td>-5.634</td>\n",
       "      <td>0.0658</td>\n",
       "    </tr>\n",
       "    <tr>\n",
       "      <th>1</th>\n",
       "      <td>330933</td>\n",
       "      <td>-8.340</td>\n",
       "      <td>0.0587</td>\n",
       "      <td>263667.0</td>\n",
       "      <td>-9.090</td>\n",
       "      <td>0.0307</td>\n",
       "      <td>216480.0</td>\n",
       "      <td>-7.784</td>\n",
       "      <td>0.0341</td>\n",
       "      <td>201661.0</td>\n",
       "      <td>-7.050</td>\n",
       "      <td>0.0705</td>\n",
       "    </tr>\n",
       "    <tr>\n",
       "      <th>2</th>\n",
       "      <td>211973</td>\n",
       "      <td>-11.005</td>\n",
       "      <td>0.0327</td>\n",
       "      <td>263800.0</td>\n",
       "      <td>-4.047</td>\n",
       "      <td>0.0244</td>\n",
       "      <td>294573.0</td>\n",
       "      <td>-3.755</td>\n",
       "      <td>0.0363</td>\n",
       "      <td>241107.0</td>\n",
       "      <td>-7.462</td>\n",
       "      <td>0.0386</td>\n",
       "    </tr>\n",
       "    <tr>\n",
       "      <th>3</th>\n",
       "      <td>215040</td>\n",
       "      <td>-7.325</td>\n",
       "      <td>0.1080</td>\n",
       "      <td>187133.0</td>\n",
       "      <td>-3.891</td>\n",
       "      <td>0.0982</td>\n",
       "      <td>246960.0</td>\n",
       "      <td>-8.415</td>\n",
       "      <td>0.1590</td>\n",
       "      <td>312820.0</td>\n",
       "      <td>-3.714</td>\n",
       "      <td>0.2220</td>\n",
       "    </tr>\n",
       "    <tr>\n",
       "      <th>4</th>\n",
       "      <td>274093</td>\n",
       "      <td>-12.639</td>\n",
       "      <td>0.0300</td>\n",
       "      <td>250360.0</td>\n",
       "      <td>-9.880</td>\n",
       "      <td>0.0279</td>\n",
       "      <td>228347.0</td>\n",
       "      <td>-6.720</td>\n",
       "      <td>0.0417</td>\n",
       "      <td>158040.0</td>\n",
       "      <td>-5.574</td>\n",
       "      <td>0.0466</td>\n",
       "    </tr>\n",
       "  </tbody>\n",
       "</table>\n",
       "</div>"
      ],
      "text/plain": [
       "   duration_ms_1990  loudness_1990  speechiness_1990  duration_ms_2000  \\\n",
       "0            322133         -7.320            0.0306          257760.0   \n",
       "1            330933         -8.340            0.0587          263667.0   \n",
       "2            211973        -11.005            0.0327          263800.0   \n",
       "3            215040         -7.325            0.1080          187133.0   \n",
       "4            274093        -12.639            0.0300          250360.0   \n",
       "\n",
       "   loudness_2000  speechiness_2000  duration_ms_2010  loudness_2010  \\\n",
       "0         -3.947            0.0751          199693.0         -2.718   \n",
       "1         -9.090            0.0307          216480.0         -7.784   \n",
       "2         -4.047            0.0244          294573.0         -3.755   \n",
       "3         -3.891            0.0982          246960.0         -8.415   \n",
       "4         -9.880            0.0279          228347.0         -6.720   \n",
       "\n",
       "   speechiness_2010  duration_ms_2019  loudness_2019  speechiness_2019  \n",
       "0            0.1420          207320.0         -5.634            0.0658  \n",
       "1            0.0341          201661.0         -7.050            0.0705  \n",
       "2            0.0363          241107.0         -7.462            0.0386  \n",
       "3            0.1590          312820.0         -3.714            0.2220  \n",
       "4            0.0417          158040.0         -5.574            0.0466  "
      ]
     },
     "execution_count": 14,
     "metadata": {},
     "output_type": "execute_result"
    }
   ],
   "source": [
    "df = pd.concat([data1990,data2000,data2010,data2019], axis=1)\n",
    "df.head()"
   ]
  },
  {
   "cell_type": "code",
   "execution_count": 15,
   "metadata": {},
   "outputs": [],
   "source": [
    "df.to_csv(\"Resources/3d_RandomForest.csv\", encoding = \"utf-8\", index = False, header = True)\n"
   ]
  },
  {
   "cell_type": "code",
   "execution_count": null,
   "metadata": {},
   "outputs": [],
   "source": []
  }
 ],
 "metadata": {
  "kernelspec": {
   "display_name": "Python 3",
   "language": "python",
   "name": "python3"
  },
  "language_info": {
   "codemirror_mode": {
    "name": "ipython",
    "version": 3
   },
   "file_extension": ".py",
   "mimetype": "text/x-python",
   "name": "python",
   "nbconvert_exporter": "python",
   "pygments_lexer": "ipython3",
   "version": "3.7.3"
  }
 },
 "nbformat": 4,
 "nbformat_minor": 2
}
